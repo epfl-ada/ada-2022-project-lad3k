{
 "cells": [
  {
   "cell_type": "code",
   "execution_count": 711,
   "id": "1566aa9c",
   "metadata": {},
   "outputs": [],
   "source": [
    "from src.helper import prepare_df"
   ]
  },
  {
   "cell_type": "code",
   "execution_count": 712,
   "id": "e3f9f5aa",
   "metadata": {},
   "outputs": [
    {
     "name": "stderr",
     "output_type": "stream",
     "text": [
      "/Users/karimzahra/Desktop/ada-2022-project-lad3k/src/helper.py:6: DtypeWarning:\n",
      "\n",
      "Columns (4) have mixed types. Specify dtype option on import or set low_memory=False.\n",
      "\n"
     ]
    },
    {
     "data": {
      "text/html": [
       "<div>\n",
       "<style scoped>\n",
       "    .dataframe tbody tr th:only-of-type {\n",
       "        vertical-align: middle;\n",
       "    }\n",
       "\n",
       "    .dataframe tbody tr th {\n",
       "        vertical-align: top;\n",
       "    }\n",
       "\n",
       "    .dataframe thead th {\n",
       "        text-align: right;\n",
       "    }\n",
       "</style>\n",
       "<table border=\"1\" class=\"dataframe\">\n",
       "  <thead>\n",
       "    <tr style=\"text-align: right;\">\n",
       "      <th></th>\n",
       "      <th>averageRating</th>\n",
       "      <th>numVotes</th>\n",
       "      <th>directors</th>\n",
       "      <th>writers</th>\n",
       "      <th>primaryTitle</th>\n",
       "      <th>isAdult</th>\n",
       "      <th>release_year</th>\n",
       "      <th>runtimeMinutes</th>\n",
       "      <th>genres</th>\n",
       "      <th>overview</th>\n",
       "      <th>providers</th>\n",
       "      <th>budget</th>\n",
       "      <th>revenue</th>\n",
       "      <th>production_companies</th>\n",
       "      <th>production_countries</th>\n",
       "      <th>on_netflix</th>\n",
       "      <th>on_prime</th>\n",
       "    </tr>\n",
       "    <tr>\n",
       "      <th>imdb_id</th>\n",
       "      <th></th>\n",
       "      <th></th>\n",
       "      <th></th>\n",
       "      <th></th>\n",
       "      <th></th>\n",
       "      <th></th>\n",
       "      <th></th>\n",
       "      <th></th>\n",
       "      <th></th>\n",
       "      <th></th>\n",
       "      <th></th>\n",
       "      <th></th>\n",
       "      <th></th>\n",
       "      <th></th>\n",
       "      <th></th>\n",
       "      <th></th>\n",
       "      <th></th>\n",
       "    </tr>\n",
       "  </thead>\n",
       "  <tbody>\n",
       "    <tr>\n",
       "      <th>tt0002199</th>\n",
       "      <td>5.8</td>\n",
       "      <td>596</td>\n",
       "      <td>nm0646058</td>\n",
       "      <td>nm0310155</td>\n",
       "      <td>From the Manger to the Cross</td>\n",
       "      <td>0</td>\n",
       "      <td>1912.0</td>\n",
       "      <td>60.0</td>\n",
       "      <td>Biography,Drama</td>\n",
       "      <td>The life of Jesus is played out in tableaux sh...</td>\n",
       "      <td>(Amazon Prime Video, Paramount Plus, Paramount...</td>\n",
       "      <td>0</td>\n",
       "      <td>0</td>\n",
       "      <td>['Kalem Company']</td>\n",
       "      <td>['US']</td>\n",
       "      <td>False</td>\n",
       "      <td>True</td>\n",
       "    </tr>\n",
       "    <tr>\n",
       "      <th>tt0003973</th>\n",
       "      <td>5.8</td>\n",
       "      <td>265</td>\n",
       "      <td>nm0237713</td>\n",
       "      <td>nm0078442,nm0348348,nm0612348,nm0715097</td>\n",
       "      <td>A Florida Enchantment</td>\n",
       "      <td>0</td>\n",
       "      <td>1914.0</td>\n",
       "      <td>63.0</td>\n",
       "      <td>Comedy</td>\n",
       "      <td>A young woman discovers a seed that can make w...</td>\n",
       "      <td>(Amazon Prime Video, Paramount Plus, Epix Roku...</td>\n",
       "      <td>0</td>\n",
       "      <td>0</td>\n",
       "      <td>['Vitagraph Company of America']</td>\n",
       "      <td>['US']</td>\n",
       "      <td>False</td>\n",
       "      <td>True</td>\n",
       "    </tr>\n",
       "    <tr>\n",
       "      <th>tt0004457</th>\n",
       "      <td>5.5</td>\n",
       "      <td>499</td>\n",
       "      <td>nm0531759</td>\n",
       "      <td>nm0000875</td>\n",
       "      <td>The Patchwork Girl of Oz</td>\n",
       "      <td>0</td>\n",
       "      <td>1914.0</td>\n",
       "      <td>81.0</td>\n",
       "      <td>Adventure,Comedy,Family</td>\n",
       "      <td>Ojo and Unc Nunkie are out of food, so they de...</td>\n",
       "      <td>(Amazon Prime Video, Paramount Plus, Paramount...</td>\n",
       "      <td>0</td>\n",
       "      <td>0</td>\n",
       "      <td>['The Oz Film Manufacturing Company']</td>\n",
       "      <td>['US']</td>\n",
       "      <td>False</td>\n",
       "      <td>True</td>\n",
       "    </tr>\n",
       "    <tr>\n",
       "      <th>tt0004873</th>\n",
       "      <td>6.1</td>\n",
       "      <td>529</td>\n",
       "      <td>nm0950148</td>\n",
       "      <td>nm0140902,nm0950148</td>\n",
       "      <td>Alice in Wonderland</td>\n",
       "      <td>0</td>\n",
       "      <td>1915.0</td>\n",
       "      <td>52.0</td>\n",
       "      <td>Adventure,Family,Fantasy</td>\n",
       "      <td>Alice goes with her sister to a picnic and the...</td>\n",
       "      <td>(Amazon Prime Video, EPIX Amazon Channel)</td>\n",
       "      <td>0</td>\n",
       "      <td>0</td>\n",
       "      <td>['Nonpareil Feature Film Corp.']</td>\n",
       "      <td>['US']</td>\n",
       "      <td>False</td>\n",
       "      <td>True</td>\n",
       "    </tr>\n",
       "    <tr>\n",
       "      <th>tt0005078</th>\n",
       "      <td>6.5</td>\n",
       "      <td>2597</td>\n",
       "      <td>nm0001124</td>\n",
       "      <td>nm0877318,nm0534221</td>\n",
       "      <td>The Cheat</td>\n",
       "      <td>0</td>\n",
       "      <td>1915.0</td>\n",
       "      <td>59.0</td>\n",
       "      <td>Drama,Romance</td>\n",
       "      <td>A venal, spoiled stockbroker's wife impulsivel...</td>\n",
       "      <td>(Amazon Prime Video, EPIX Amazon Channel, DIRE...</td>\n",
       "      <td>17311</td>\n",
       "      <td>137365</td>\n",
       "      <td>['Paramount', 'Jesse L. Lasky Feature Play Com...</td>\n",
       "      <td>['US']</td>\n",
       "      <td>False</td>\n",
       "      <td>True</td>\n",
       "    </tr>\n",
       "  </tbody>\n",
       "</table>\n",
       "</div>"
      ],
      "text/plain": [
       "           averageRating  numVotes  directors  \\\n",
       "imdb_id                                         \n",
       "tt0002199            5.8       596  nm0646058   \n",
       "tt0003973            5.8       265  nm0237713   \n",
       "tt0004457            5.5       499  nm0531759   \n",
       "tt0004873            6.1       529  nm0950148   \n",
       "tt0005078            6.5      2597  nm0001124   \n",
       "\n",
       "                                           writers  \\\n",
       "imdb_id                                              \n",
       "tt0002199                                nm0310155   \n",
       "tt0003973  nm0078442,nm0348348,nm0612348,nm0715097   \n",
       "tt0004457                                nm0000875   \n",
       "tt0004873                      nm0140902,nm0950148   \n",
       "tt0005078                      nm0877318,nm0534221   \n",
       "\n",
       "                           primaryTitle  isAdult  release_year  \\\n",
       "imdb_id                                                          \n",
       "tt0002199  From the Manger to the Cross        0        1912.0   \n",
       "tt0003973         A Florida Enchantment        0        1914.0   \n",
       "tt0004457      The Patchwork Girl of Oz        0        1914.0   \n",
       "tt0004873           Alice in Wonderland        0        1915.0   \n",
       "tt0005078                     The Cheat        0        1915.0   \n",
       "\n",
       "           runtimeMinutes                    genres  \\\n",
       "imdb_id                                               \n",
       "tt0002199            60.0           Biography,Drama   \n",
       "tt0003973            63.0                    Comedy   \n",
       "tt0004457            81.0   Adventure,Comedy,Family   \n",
       "tt0004873            52.0  Adventure,Family,Fantasy   \n",
       "tt0005078            59.0             Drama,Romance   \n",
       "\n",
       "                                                    overview  \\\n",
       "imdb_id                                                        \n",
       "tt0002199  The life of Jesus is played out in tableaux sh...   \n",
       "tt0003973  A young woman discovers a seed that can make w...   \n",
       "tt0004457  Ojo and Unc Nunkie are out of food, so they de...   \n",
       "tt0004873  Alice goes with her sister to a picnic and the...   \n",
       "tt0005078  A venal, spoiled stockbroker's wife impulsivel...   \n",
       "\n",
       "                                                   providers  budget  revenue  \\\n",
       "imdb_id                                                                         \n",
       "tt0002199  (Amazon Prime Video, Paramount Plus, Paramount...       0        0   \n",
       "tt0003973  (Amazon Prime Video, Paramount Plus, Epix Roku...       0        0   \n",
       "tt0004457  (Amazon Prime Video, Paramount Plus, Paramount...       0        0   \n",
       "tt0004873          (Amazon Prime Video, EPIX Amazon Channel)       0        0   \n",
       "tt0005078  (Amazon Prime Video, EPIX Amazon Channel, DIRE...   17311   137365   \n",
       "\n",
       "                                        production_companies  \\\n",
       "imdb_id                                                        \n",
       "tt0002199                                  ['Kalem Company']   \n",
       "tt0003973                   ['Vitagraph Company of America']   \n",
       "tt0004457              ['The Oz Film Manufacturing Company']   \n",
       "tt0004873                   ['Nonpareil Feature Film Corp.']   \n",
       "tt0005078  ['Paramount', 'Jesse L. Lasky Feature Play Com...   \n",
       "\n",
       "          production_countries  on_netflix  on_prime  \n",
       "imdb_id                                               \n",
       "tt0002199               ['US']       False      True  \n",
       "tt0003973               ['US']       False      True  \n",
       "tt0004457               ['US']       False      True  \n",
       "tt0004873               ['US']       False      True  \n",
       "tt0005078               ['US']       False      True  "
      ]
     },
     "execution_count": 712,
     "metadata": {},
     "output_type": "execute_result"
    }
   ],
   "source": [
    "df = prepare_df()\n",
    "df.head()"
   ]
  },
  {
   "cell_type": "markdown",
   "id": "1c2731fa",
   "metadata": {},
   "source": [
    "As of April 2022, there are 4901 movies on netflix, we have 2915 movies in the dataset thus we can estimate\n",
    "that we are capturing about 60% of the movies on the streaming service.\n",
    "For Prime there are 6985 movies and we have 6981 so we are capturing about 99.9%.\n",
    "\n",
    "*[source](https://blog.reelgood.com/which-streaming-service-offers-the-best-bang-for-your-buck)*"
   ]
  },
  {
   "cell_type": "markdown",
   "id": "8c879b1d",
   "metadata": {},
   "source": [
    "![movies](data/movies_ss.png)"
   ]
  },
  {
   "cell_type": "markdown",
   "id": "ebc068d1",
   "metadata": {},
   "source": [
    "Can also check for quality movies and high quality movies the fraction of movies that are in the dataset."
   ]
  },
  {
   "cell_type": "markdown",
   "id": "64853037",
   "metadata": {},
   "source": [
    "### Movies on Netflix and Prime (US)\n",
    "- Plot the genre distribution of movies on Netflix and Prime\n",
    "- Plot the production companies\n",
    "- Plot the production countries\n",
    "- Plot the directors and wirters\n",
    "- Plot the release year\n",
    "- Plot the runtime\n",
    "- Plot the average rating\n"
   ]
  },
  {
   "cell_type": "code",
   "execution_count": 713,
   "id": "b7173bfc",
   "metadata": {},
   "outputs": [],
   "source": [
    "import pandas as pd\n",
    "import matplotlib.pyplot as plt\n",
    "from scipy.stats import ttest_ind\n",
    "import numpy as np\n",
    "import plotly.express as px"
   ]
  },
  {
   "cell_type": "code",
   "execution_count": 714,
   "id": "88bd8b78",
   "metadata": {},
   "outputs": [],
   "source": [
    "df['streaming_service'] = ['both' if netflix and prime else 'netflix' if netflix\n",
    "                           else 'prime' for netflix, prime in zip(df['on_netflix'], df['on_prime'])]"
   ]
  },
  {
   "cell_type": "code",
   "execution_count": 715,
   "id": "a73ea9ff",
   "metadata": {},
   "outputs": [
    {
     "data": {
      "text/plain": [
       "(9825, 18)"
      ]
     },
     "execution_count": 715,
     "metadata": {},
     "output_type": "execute_result"
    }
   ],
   "source": [
    "df.shape"
   ]
  },
  {
   "cell_type": "code",
   "execution_count": 716,
   "id": "1d27b94a",
   "metadata": {},
   "outputs": [
    {
     "data": {
      "text/plain": [
       "(74, 18)"
      ]
     },
     "execution_count": 716,
     "metadata": {},
     "output_type": "execute_result"
    }
   ],
   "source": [
    "# get dataframe with streaminung service = both\n",
    "df_both = df[df['streaming_service'] == 'both']\n",
    "df_both.shape"
   ]
  },
  {
   "attachments": {},
   "cell_type": "markdown",
   "id": "1a86aefc",
   "metadata": {},
   "source": [
    ">It's very rare to find a movie that's on both platforms"
   ]
  },
  {
   "cell_type": "code",
   "execution_count": 717,
   "id": "1f565d17",
   "metadata": {},
   "outputs": [],
   "source": [
    "# get movies on netflix and prime \n",
    "netflix_movies = df[df['on_netflix'] == True]\n",
    "prime_movies = df[df['on_prime'] == True]"
   ]
  },
  {
   "cell_type": "code",
   "execution_count": 718,
   "id": "dc46cada",
   "metadata": {},
   "outputs": [],
   "source": [
    "# get unique genres function\n",
    "def get_unique_genres(df):\n",
    "    genres = set(df['genres'].apply(lambda x: x.split(',')).sum())\n",
    "    genres = list(genres)\n",
    "    return genres"
   ]
  },
  {
   "cell_type": "code",
   "execution_count": 719,
   "id": "58422299",
   "metadata": {},
   "outputs": [
    {
     "data": {
      "image/png": "[encoded data removed]",
      "text/plain": [
       "<Figure size 1000x500 with 1 Axes>"
      ]
     },
     "metadata": {},
     "output_type": "display_data"
    }
   ],
   "source": [
    "netflix_genres = get_unique_genres(netflix_movies)\n",
    "movies_genre = {}\n",
    "for genre in netflix_genres:\n",
    "    movies_genre[genre] = netflix_movies['genres'].apply(lambda x: genre in x).sum()\n",
    "netflix_genre = pd.DataFrame.from_dict(\n",
    "    movies_genre, orient='index', columns=['nb_movies'])\n",
    "\n",
    "prime_genres = get_unique_genres(prime_movies)\n",
    "movies_genre = {}\n",
    "for genre in prime_genres:\n",
    "    movies_genre[genre] = prime_movies['genres'].apply(lambda x: genre in x).sum()\n",
    "prime_genre = pd.DataFrame.from_dict(\n",
    "    movies_genre, orient='index', columns=['nb_movies'])\n",
    "\n",
    "# join the two dataframes without losing the genres\n",
    "both_genre = netflix_genre.join(prime_genre, how='outer', lsuffix='_netflix', rsuffix='_prime')\n",
    "both_genre = both_genre.fillna(0)\n",
    "\n",
    "# create a new column with the normalized sum of movies on netflix and prime\n",
    "both_genre['total_movies'] = (both_genre['nb_movies_netflix'] + both_genre['nb_movies_prime'])/ (both_genre[\n",
    "    'nb_movies_netflix'].sum() + both_genre['nb_movies_prime'].sum())\n",
    "\n",
    "# normalize the number of movies\n",
    "both_genre['nb_movies_netflix'] = both_genre['nb_movies_netflix'] / both_genre['nb_movies_netflix'].sum()\n",
    "both_genre['nb_movies_prime'] = both_genre['nb_movies_prime'] / both_genre['nb_movies_prime'].sum()\n",
    "\n",
    "\n",
    "both_genre = both_genre.sort_values(by='total_movies', ascending=False)\n",
    "both_genre.drop('total_movies', axis=1, inplace=True)\n",
    "both_genre.plot(kind='bar', figsize=(10, 5))\n",
    "\n",
    "\n",
    "plt.title('Movies genre on Netflix and Prime')\n",
    "plt.xlabel('Genre')\n",
    "plt.ylabel('Normalized Frequency')\n",
    "plt.show()\n",
    "\n",
    "\n",
    "\n"
   ]
  },
  {
   "cell_type": "code",
   "execution_count": 720,
   "id": "2a7483ef",
   "metadata": {},
   "outputs": [],
   "source": [
    "def plot_distribution(df: pd.DataFrame, column: str):\n",
    "        \"\"\"\n",
    "        Plot the distribution on Netflix and Prime\n",
    "\n",
    "        Args:\n",
    "                df (pd.DataFrame): The dataframe containing the data,\n",
    "                must contain the columns 'on_netflix', 'on_prime' and column\n",
    "        \"\"\"\n",
    "        # if needed transform binary 'on_netflix' and 'on_prime' to boolean\n",
    "        df['on_netflix'] =  df['on_netflix'].astype(bool)\n",
    "        df['on_prime'] = df['on_prime'].astype(bool)\n",
    "\n",
    "        # plot the movie rating distribution on Netflix and Prime\n",
    "        # rating is in column \"averageRating\"\n",
    "        # a col \"streaming_service\" tells us if the movie is on Netflix, Prime or both\n",
    "\n",
    "        if column == 'averageRating':\n",
    "                plt.hist(df[df['on_netflix'] == True][column],\n",
    "                        bins=np.arange(0, 10.1, 0.5),\n",
    "                        alpha=0.5,\n",
    "                        density=True,\n",
    "                        color='C0',\n",
    "                        label='Netflix')\n",
    "                plt.axvline(df[df['on_netflix']][column].mean(),\n",
    "                                color='C0', linestyle='dashed', linewidth=1)\n",
    "                plt.axvline(df[df['on_netflix']][column].median(),\n",
    "                                color='C0', linestyle='dotted', linewidth=1)\n",
    "\n",
    "                plt.hist(df[df['on_prime']][column],\n",
    "                        bins=np.arange(0, 10.1, 0.5),\n",
    "                        alpha=0.5,\n",
    "                        density=True,\n",
    "                        color='C1',\n",
    "                        label='Prime')\n",
    "                plt.axvline(df[df['on_prime']][column].mean(),\n",
    "                                color='C1', linestyle='dashed', linewidth=1)\n",
    "                plt.axvline(df[df['on_prime']][column].median(),\n",
    "                                color='C1', linestyle='dotted', linewidth=1)\n",
    "\n",
    "                # add legend for hist and mean/median\n",
    "                legend_elements = [\n",
    "                        plt.Line2D([0], [0], color='C0', lw=6, label='Netflix'),\n",
    "                        plt.Line2D([0], [0], color='C1', lw=6, label='Prime'),\n",
    "                        plt.Line2D([0], [0], color='k', lw=3,\n",
    "                                linestyle='dashed', label='Mean'),\n",
    "                        plt.Line2D([0], [0], color='k', lw=3,\n",
    "                                linestyle='dotted', label='Median')\n",
    "                ]\n",
    "                plt.legend(handles=legend_elements, loc='upper right')\n",
    "\n",
    "                plt.title('Movie rating distribution on Netflix and Prime')\n",
    "                plt.xlabel('Average rating')\n",
    "                plt.ylabel('Density')\n",
    "                plt.show()\n",
    "\n",
    "        if column == 'runtimeMinutes':\n",
    "                plt.hist(df[df['on_netflix'] == True][column],\n",
    "                bins= np.arange(0, 350, 10),\n",
    "                alpha=0.5,\n",
    "                density=True,\n",
    "                color='C0',\n",
    "                label='Netflix')\n",
    "                plt.axvline(df[df['on_netflix']][column].mean(),\n",
    "                                color='C0', linestyle='dashed', linewidth=1)\n",
    "                plt.axvline(df[df['on_netflix']][column].median(),\n",
    "                                color='C0', linestyle='dotted', linewidth=1)\n",
    "\n",
    "                plt.hist(df[df['on_prime']][column],\n",
    "                bins= np.arange(0, 350, 10),\n",
    "                alpha=0.5,\n",
    "                density=True,\n",
    "                color='C1',\n",
    "                label='Prime')\n",
    "                plt.axvline(df[df['on_prime']][column].mean(),\n",
    "                                color='C1', linestyle='dashed', linewidth=1)\n",
    "                plt.axvline(df[df['on_prime']][column].median(),\n",
    "                                color='C1', linestyle='dotted', linewidth=1)\n",
    "\n",
    "                # add legend for hist and mean/median\n",
    "                legend_elements = [\n",
    "                        plt.Line2D([0], [0], color='C0', lw=6, label='Netflix'),\n",
    "                        plt.Line2D([0], [0], color='C1', lw=6, label='Prime'),\n",
    "                        plt.Line2D([0], [0], color='k', lw=3,\n",
    "                                linestyle='dashed', label='Mean',),\n",
    "                        plt.Line2D([0], [0], color='k', lw=3,\n",
    "                                linestyle='dotted', label='Median')\n",
    "                ]\n",
    "                plt.legend(handles=legend_elements, loc='upper right')\n",
    "\n",
    "                plt.title('Movie run time distribution on Netflix and Prime')\n",
    "                plt.xlabel('run rime (min)')\n",
    "                plt.ylabel('Density ')\n",
    "                plt.show()\n",
    "        \n",
    "        if column == 'release_year':\n",
    "                plt.hist(df[df['on_netflix'] == True][column],\n",
    "                bins= 20,\n",
    "                alpha=0.5,\n",
    "                density=True,\n",
    "                color='C0',\n",
    "                label='Netflix',\n",
    "                log=True)\n",
    "                plt.axvline(df[df['on_netflix']][column].mean(),\n",
    "                                color='C0', linestyle='dashed', linewidth=1)\n",
    "                plt.axvline(df[df['on_netflix']][column].median(),\n",
    "                                color='C0', linestyle='dotted', linewidth=1)\n",
    "\n",
    "                plt.hist(df[df['on_prime']][column],\n",
    "                        bins= 20,\n",
    "                        alpha=0.5,\n",
    "                        density=True,\n",
    "                        color='C1',\n",
    "                        label='Prime',\n",
    "                        log=True)\n",
    "                plt.axvline(df[df['on_prime']][column].mean(),\n",
    "                                color='C1', linestyle='dashed', linewidth=1)\n",
    "                plt.axvline(df[df['on_prime']][column].median(),\n",
    "                                color='C1', linestyle='dotted', linewidth=1)\n",
    "\n",
    "                # add legend for hist and mean/median\n",
    "                legend_elements = [\n",
    "                        plt.Line2D([0], [0], color='C0', lw=6, label='Netflix'),\n",
    "                        plt.Line2D([0], [0], color='C1', lw=6, label='Prime'),\n",
    "                        plt.Line2D([0], [0], color='k', lw=3,\n",
    "                                linestyle='dashed', label='Mean',),\n",
    "                        plt.Line2D([0], [0], color='k', lw=3,\n",
    "                                linestyle='dotted', label='Median')\n",
    "                ]\n",
    "                plt.legend(handles=legend_elements, loc='upper right')\n",
    "\n",
    "                plt.title('Movie release year distribution on Netflix and Prime')\n",
    "                plt.xlabel('release year')\n",
    "                plt.ylabel('Density ')\n",
    "                plt.show()\n",
    "\n",
    "        if column == 'revenue':\n",
    "                plt.hist(df[df['on_netflix'] == True][column],\n",
    "                bins= 20,\n",
    "                alpha=0.5,\n",
    "                color='C0',\n",
    "                density=True,\n",
    "                label='Netflix',\n",
    "                log=True)\n",
    "                plt.axvline(df[df['on_netflix']][column].mean(),\n",
    "                                color='C0', linestyle='dashed', linewidth=1)\n",
    "                plt.axvline(df[df['on_netflix']][column].median(),\n",
    "                                color='C0', linestyle='dotted', linewidth=1)\n",
    "\n",
    "                plt.hist(df[df['on_prime']][column],\n",
    "                bins= 20,\n",
    "                alpha=0.5,\n",
    "                color='C1',\n",
    "                density=True,\n",
    "                label='Prime',\n",
    "                log=True)\n",
    "                plt.axvline(df[df['on_prime']][column].mean(),\n",
    "                                color='C1', linestyle='dashed', linewidth=1)\n",
    "                plt.axvline(df[df['on_prime']][column].median(),\n",
    "                                color='C1', linestyle='dotted', linewidth=1)\n",
    "\n",
    "                # add legend for hist and mean/median\n",
    "                legend_elements = [\n",
    "                        plt.Line2D([0], [0], color='C0', lw=6, label='Netflix'),\n",
    "                        plt.Line2D([0], [0], color='C1', lw=6, label='Prime'),\n",
    "                        plt.Line2D([0], [0], color='k', lw=3,\n",
    "                                linestyle='dashed', label='Mean',),\n",
    "                        plt.Line2D([0], [0], color='k', lw=3,\n",
    "                                linestyle='dotted', label='Median')\n",
    "                ]\n",
    "                plt.legend(handles=legend_elements, loc='upper right')\n",
    "\n",
    "                plt.title('Movies revenues distribution on Netflix and Prime')\n",
    "                plt.xlabel('revenue ($)')\n",
    "                plt.ylabel('Density ')\n",
    "                plt.show()\n",
    "        \n",
    "        if column == 'numVotes':\n",
    "                plt.hist(df[df['on_netflix'] == True][column],\n",
    "                bins= 20,\n",
    "                alpha=0.5,\n",
    "                color='C0',\n",
    "                density=True,\n",
    "                label='Netflix',\n",
    "                log=True)\n",
    "                plt.axvline(df[df['on_netflix']][column].mean(),\n",
    "                                color='C0', linestyle='dashed', linewidth=1)\n",
    "                plt.axvline(df[df['on_netflix']][column].median(),\n",
    "                                color='C0', linestyle='dotted', linewidth=1)\n",
    "\n",
    "                plt.hist(df[df['on_prime']][column],\n",
    "                bins= 20,\n",
    "                alpha=0.5,\n",
    "                color='C1',\n",
    "                density=True,\n",
    "                label='Prime',\n",
    "                log=True)\n",
    "                plt.axvline(df[df['on_prime']][column].mean(),\n",
    "                                color='C1', linestyle='dashed', linewidth=1)\n",
    "                plt.axvline(df[df['on_prime']][column].median(),\n",
    "                                color='C1', linestyle='dotted', linewidth=1)\n",
    "\n",
    "                # add legend for hist and mean/median\n",
    "                legend_elements = [\n",
    "                        plt.Line2D([0], [0], color='C0', lw=6, label='Netflix'),\n",
    "                        plt.Line2D([0], [0], color='C1', lw=6, label='Prime'),\n",
    "                        plt.Line2D([0], [0], color='k', lw=3,\n",
    "                                linestyle='dashed', label='Mean',),\n",
    "                        plt.Line2D([0], [0], color='k', lw=3,\n",
    "                                linestyle='dotted', label='Median')\n",
    "                ]\n",
    "                plt.legend(handles=legend_elements, loc='upper right')\n",
    "\n",
    "                plt.title('Movies numner of votes on Netflix and Prime')\n",
    "                plt.xlabel('number of votes')\n",
    "                plt.ylabel('Density ')\n",
    "                plt.show()"
   ]
  },
  {
   "cell_type": "code",
   "execution_count": 721,
   "id": "d536520c",
   "metadata": {},
   "outputs": [
    {
     "data": {
      "image/png": "[encoded data removed]",
      "text/plain": [
       "<Figure size 640x480 with 1 Axes>"
      ]
     },
     "metadata": {},
     "output_type": "display_data"
    },
    {
     "data": {
      "image/png": "[encoded data removed]",
      "text/plain": [
       "<Figure size 640x480 with 1 Axes>"
      ]
     },
     "metadata": {},
     "output_type": "display_data"
    },
    {
     "data": {
      "image/png": "[encoded data removed]",
      "text/plain": [
       "<Figure size 640x480 with 1 Axes>"
      ]
     },
     "metadata": {},
     "output_type": "display_data"
    },
    {
     "data": {
      "image/png": "[encoded data removed]",
      "text/plain": [
       "<Figure size 640x480 with 1 Axes>"
      ]
     },
     "metadata": {},
     "output_type": "display_data"
    },
    {
     "data": {
      "image/png": "[encoded data removed]",
      "text/plain": [
       "<Figure size 640x480 with 1 Axes>"
      ]
     },
     "metadata": {},
     "output_type": "display_data"
    }
   ],
   "source": [
    "plot_distribution(df, 'averageRating')\n",
    "plot_distribution(df, 'runtimeMinutes')\n",
    "plot_distribution(df, 'release_year')\n",
    "plot_distribution(df, 'revenue')\n",
    "plot_distribution(df, 'numVotes')\n"
   ]
  },
  {
   "cell_type": "code",
   "execution_count": 722,
   "id": "1c61b4a2",
   "metadata": {},
   "outputs": [
    {
     "data": {
      "text/plain": [
       "Ttest_indResult(statistic=20.999390841789367, pvalue=5.35105532777801e-95)"
      ]
     },
     "execution_count": 722,
     "metadata": {},
     "output_type": "execute_result"
    }
   ],
   "source": [
    "# compare p value of average rating of movies on netflix and prime\n",
    "ttest_ind(netflix_movies['averageRating'], prime_movies['averageRating'], equal_var=False, alternative='greater')"
   ]
  },
  {
   "attachments": {},
   "cell_type": "markdown",
   "id": "5f889ad2",
   "metadata": {},
   "source": [
    "> The pvalue is smaller than 1%. We can reject the null hypothesis of equal means of average ratings of movies on Netflix and Prime. We can even confirm that the mean of the average rating of movies on Netflix is greater than the mean of the avergae rating movies on Prime. Movies on Netfliy are generally higher rated than movies on Prime."
   ]
  },
  {
   "cell_type": "code",
   "execution_count": 723,
   "id": "d854a1df",
   "metadata": {},
   "outputs": [
    {
     "data": {
      "text/plain": [
       "Ttest_indResult(statistic=21.349644936740333, pvalue=7.033380333226169e-98)"
      ]
     },
     "execution_count": 723,
     "metadata": {},
     "output_type": "execute_result"
    }
   ],
   "source": [
    "# only movies with runtime > 0\n",
    "netflix_movies_runtime = netflix_movies[netflix_movies['runtimeMinutes'] > 0]\n",
    "prime_movies_runtime = prime_movies[prime_movies['runtimeMinutes'] > 0]\n",
    "\n",
    "ttest_ind(netflix_movies_runtime['runtimeMinutes'], prime_movies_runtime['runtimeMinutes'], equal_var=False, alternative='greater')"
   ]
  },
  {
   "attachments": {},
   "cell_type": "markdown",
   "id": "892c367a",
   "metadata": {},
   "source": [
    "> The pvalue is smaller than 1%. We can reject the null hypothesis of equal means of running times of movies on Netflix and Prime. We can even confirm that the mean of the running times of movies on Netflix is greater than the mean of the running times of movies on Prime. Movies on Netfliy are generally longer than movies on Prime."
   ]
  },
  {
   "cell_type": "code",
   "execution_count": 724,
   "id": "29252f20",
   "metadata": {},
   "outputs": [
    {
     "data": {
      "text/plain": [
       "Ttest_indResult(statistic=44.090057532648736, pvalue=0.0)"
      ]
     },
     "execution_count": 724,
     "metadata": {},
     "output_type": "execute_result"
    }
   ],
   "source": [
    "ttest_ind(netflix_movies['release_year'], prime_movies['release_year'], equal_var=False, alternative='greater')"
   ]
  },
  {
   "attachments": {},
   "cell_type": "markdown",
   "id": "afd78d9e",
   "metadata": {},
   "source": [
    "> The pvalue is smaller than 1%. We can reject the null hypothesis of equal means of release years of movies on Netflix and Prime. We can even confirm that the mean of release years of movies on Netflix is greater than the mean of release years of movies on Prime. Thus movies are generally more recent than movies on prime."
   ]
  },
  {
   "cell_type": "code",
   "execution_count": 725,
   "id": "687ec6fd",
   "metadata": {},
   "outputs": [
    {
     "data": {
      "text/plain": [
       "Ttest_indResult(statistic=10.15740132870043, pvalue=2.016220974780998e-24)"
      ]
     },
     "execution_count": 725,
     "metadata": {},
     "output_type": "execute_result"
    }
   ],
   "source": [
    "ttest_ind(netflix_movies['revenue'], prime_movies['revenue'], alternative='greater')"
   ]
  },
  {
   "attachments": {},
   "cell_type": "markdown",
   "id": "2daf379a",
   "metadata": {},
   "source": [
    "> The pvalue is smaller than 1%. We can reject the null hypothesis of equal means of revenues movies on Netflix and Prime. We can even confirm that the mean of the revenues of movies on Netflix is greater than the mean of revenues of movies on Prime."
   ]
  },
  {
   "cell_type": "code",
   "execution_count": 726,
   "id": "ca7fb05c",
   "metadata": {},
   "outputs": [
    {
     "data": {
      "text/plain": [
       "Ttest_indResult(statistic=12.871157379728789, pvalue=6.546461801814349e-38)"
      ]
     },
     "execution_count": 726,
     "metadata": {},
     "output_type": "execute_result"
    }
   ],
   "source": [
    "ttest_ind(netflix_movies['numVotes'], prime_movies['numVotes'], alternative='greater')"
   ]
  },
  {
   "attachments": {},
   "cell_type": "markdown",
   "id": "af292d55",
   "metadata": {},
   "source": [
    "> The pvalue is smaller than 1%. We can reject the null hypothesis of equal means of number of votes for movies on Netflix and Prime. We can even confirm that the mean of the number of votes of movies on Netflix is greater than the mean of revenues of movies on Prime."
   ]
  },
  {
   "cell_type": "code",
   "execution_count": 736,
   "id": "3be73cfd",
   "metadata": {},
   "outputs": [],
   "source": [
    "prod_countrie_netflix = netflix_movies['production_countries'].apply(lambda x: x.replace('[', '').replace(']', '').replace('\"', '').replace(' ', '').replace(\"'\", \"\").split(',')).sum()\n",
    "prod_countrie_netflix = pd.Series(prod_countrie_netflix).value_counts(normalize=True)\n",
    "prod_countrie_prime = prime_movies['production_countries'].apply(lambda x: x.replace('[', '').replace(']', '').replace('\"', '').replace(' ', '').replace(\"'\", \"\").split(',')).sum()\n",
    "prod_countrie_prime = pd.Series(prod_countrie_prime).value_counts(normalize=True)\n",
    "\n",
    "df_prod_countrie = pd.concat([prod_countrie_netflix, prod_countrie_prime], axis=1)\n",
    "df_prod_countrie.columns = ['Netflix', 'Prime']\n",
    "df_prod_countrie = df_prod_countrie.fillna(0)\n",
    "\n",
    "# df_prod_countrie to dataframe with columns 'production_countries' and 'Netflix' and 'Prime'\n",
    "df_prod_countrie = df_prod_countrie.reset_index()\n",
    "df_prod_countrie.columns = ['production_countries', 'Netflix', 'Prime']\n",
    "\n",
    "\n"
   ]
  },
  {
   "cell_type": "code",
   "execution_count": 737,
   "id": "c9f7a9de",
   "metadata": {},
   "outputs": [],
   "source": [
    "# get df_prod_comp us row values\n",
    "\n",
    "from pycountry_convert import country_alpha2_to_country_name, country_name_to_country_alpha3\n",
    "\n",
    "def alpha2_to_country_name(x: str) -> str:\n",
    "    try:\n",
    "        country = country_alpha2_to_country_name(x)\n",
    "        return country\n",
    "    except KeyError:\n",
    "        return \"\"\n",
    "\n",
    "alpha2_to_country_name('ksk')\n",
    "\n"
   ]
  },
  {
   "cell_type": "code",
   "execution_count": 738,
   "id": "fa70be7c",
   "metadata": {},
   "outputs": [
    {
     "data": {
      "text/html": [
       "<div>\n",
       "<style scoped>\n",
       "    .dataframe tbody tr th:only-of-type {\n",
       "        vertical-align: middle;\n",
       "    }\n",
       "\n",
       "    .dataframe tbody tr th {\n",
       "        vertical-align: top;\n",
       "    }\n",
       "\n",
       "    .dataframe thead th {\n",
       "        text-align: right;\n",
       "    }\n",
       "</style>\n",
       "<table border=\"1\" class=\"dataframe\">\n",
       "  <thead>\n",
       "    <tr style=\"text-align: right;\">\n",
       "      <th></th>\n",
       "      <th>production_countries</th>\n",
       "      <th>Netflix</th>\n",
       "      <th>Prime</th>\n",
       "    </tr>\n",
       "  </thead>\n",
       "  <tbody>\n",
       "    <tr>\n",
       "      <th>0</th>\n",
       "      <td>United States</td>\n",
       "      <td>0.277823</td>\n",
       "      <td>0.435814</td>\n",
       "    </tr>\n",
       "    <tr>\n",
       "      <th>1</th>\n",
       "      <td>India</td>\n",
       "      <td>0.135357</td>\n",
       "      <td>0.100400</td>\n",
       "    </tr>\n",
       "    <tr>\n",
       "      <th>2</th>\n",
       "      <td>United Kingdom</td>\n",
       "      <td>0.055510</td>\n",
       "      <td>0.059565</td>\n",
       "    </tr>\n",
       "    <tr>\n",
       "      <th>3</th>\n",
       "      <td>France</td>\n",
       "      <td>0.041838</td>\n",
       "      <td>0.028097</td>\n",
       "    </tr>\n",
       "    <tr>\n",
       "      <th>4</th>\n",
       "      <td>Spain</td>\n",
       "      <td>0.035001</td>\n",
       "      <td>0.010614</td>\n",
       "    </tr>\n",
       "    <tr>\n",
       "      <th>...</th>\n",
       "      <td>...</td>\n",
       "      <td>...</td>\n",
       "      <td>...</td>\n",
       "    </tr>\n",
       "    <tr>\n",
       "      <th>124</th>\n",
       "      <td>Eswatini</td>\n",
       "      <td>0.000000</td>\n",
       "      <td>0.000125</td>\n",
       "    </tr>\n",
       "    <tr>\n",
       "      <th>126</th>\n",
       "      <td>Ecuador</td>\n",
       "      <td>0.000000</td>\n",
       "      <td>0.000125</td>\n",
       "    </tr>\n",
       "    <tr>\n",
       "      <th>127</th>\n",
       "      <td>Rwanda</td>\n",
       "      <td>0.000000</td>\n",
       "      <td>0.000125</td>\n",
       "    </tr>\n",
       "    <tr>\n",
       "      <th>128</th>\n",
       "      <td>Turks and Caicos Islands</td>\n",
       "      <td>0.000000</td>\n",
       "      <td>0.000125</td>\n",
       "    </tr>\n",
       "    <tr>\n",
       "      <th>129</th>\n",
       "      <td>Côte d'Ivoire</td>\n",
       "      <td>0.000000</td>\n",
       "      <td>0.000125</td>\n",
       "    </tr>\n",
       "  </tbody>\n",
       "</table>\n",
       "<p>124 rows × 3 columns</p>\n",
       "</div>"
      ],
      "text/plain": [
       "         production_countries   Netflix     Prime\n",
       "0               United States  0.277823  0.435814\n",
       "1                       India  0.135357  0.100400\n",
       "2              United Kingdom  0.055510  0.059565\n",
       "3                      France  0.041838  0.028097\n",
       "4                       Spain  0.035001  0.010614\n",
       "..                        ...       ...       ...\n",
       "124                  Eswatini  0.000000  0.000125\n",
       "126                   Ecuador  0.000000  0.000125\n",
       "127                    Rwanda  0.000000  0.000125\n",
       "128  Turks and Caicos Islands  0.000000  0.000125\n",
       "129             Côte d'Ivoire  0.000000  0.000125\n",
       "\n",
       "[124 rows x 3 columns]"
      ]
     },
     "execution_count": 738,
     "metadata": {},
     "output_type": "execute_result"
    }
   ],
   "source": [
    "df_prod_countrie"
   ]
  },
  {
   "cell_type": "code",
   "execution_count": 739,
   "id": "7dfbd7c5",
   "metadata": {},
   "outputs": [
    {
     "data": {
      "application/vnd.plotly.v1+json": {
       "config": {
        "plotlyServerURL": "https://plot.ly"
       },
       "data": [
        {
         "coloraxis": "coloraxis",
         "geo": "geo",
         "hovertemplate": "production_countries=%{location}<br>Netflix=%{z}<extra></extra>",
         "locationmode": "country names",
         "locations": [
          "United States",
          "India",
          "United Kingdom",
          "France",
          "Spain",
          "Canada",
          "Germany",
          "Japan",
          "Philippines",
          "Nigeria",
          "Turkey",
          "Egypt",
          "Italy",
          "Mexico",
          "Brazil",
          "China",
          "Indonesia",
          "Argentina",
          "Korea, Republic of",
          "Belgium",
          "Hong Kong",
          "Poland",
          "Australia",
          "South Africa",
          "Netherlands",
          "Lebanon",
          "Taiwan, Province of China",
          "Colombia",
          "Denmark",
          "United Arab Emirates",
          "Malaysia",
          "Thailand",
          "Palestine, State of",
          "Sweden",
          "Switzerland",
          "Chile",
          "Norway",
          "Singapore",
          "Czechia",
          "Ireland",
          "Qatar",
          "Uruguay",
          "Austria",
          "Peru",
          "Romania",
          "New Zealand",
          "Bulgaria",
          "Kenya",
          "Israel",
          "Russian Federation",
          "Portugal",
          "Saudi Arabia",
          "Luxembourg",
          "Iceland",
          "Kuwait",
          "Ghana",
          "Ukraine",
          "Tanzania, United Republic of",
          "Finland",
          "Cambodia",
          "Jordan",
          "Bangladesh",
          "Viet Nam",
          "Hungary",
          "Iraq",
          "Puerto Rico",
          "Iran, Islamic Republic of",
          "Morocco",
          "Lithuania",
          "Albania",
          "Congo, The Democratic Republic of the",
          "Algeria",
          "Pakistan",
          "Greece",
          "Tunisia",
          "Serbia",
          "Panama",
          "Zimbabwe",
          "Malawi",
          "Paraguay",
          "Cuba",
          "Georgia",
          "Holy See (Vatican City State)",
          "Nepal",
          "Greenland",
          "Mauritius",
          "Venezuela, Bolivarian Republic of",
          "Malta",
          "Monaco",
          "Faroe Islands",
          "Sri Lanka",
          "Cameroon",
          "Bahamas",
          "Angola",
          "Estonia",
          "Guatemala",
          "Burkina Faso",
          "Ethiopia",
          "Senegal",
          "Bhutan",
          "Slovenia",
          "Syrian Arab Republic",
          "Slovakia",
          "Croatia",
          "Afghanistan",
          "Mongolia",
          "Liechtenstein",
          "Latvia",
          "Bolivia, Plurinational State of",
          "Costa Rica",
          "Trinidad and Tobago",
          "Bosnia and Herzegovina",
          "Cyprus",
          "Nicaragua",
          "Jamaica",
          "Bermuda",
          "El Salvador",
          "Somalia",
          "Kazakhstan",
          "Eswatini",
          "Ecuador",
          "Rwanda",
          "Turks and Caicos Islands",
          "Côte d'Ivoire"
         ],
         "name": "",
         "type": "choropleth",
         "z": [
          0.277823352474706,
          0.13535684987694832,
          0.05550998085862729,
          0.04183757178014766,
          0.03500136724090785,
          0.03089964451736396,
          0.030079299972655182,
          0.024883784522832922,
          0.02269619907027618,
          0.019414820891441073,
          0.016680339075745145,
          0.016406890894175553,
          0.01585999453103637,
          0.015313098167897183,
          0.014766201804757998,
          0.014492753623188406,
          0.014492753623188406,
          0.012305168170631665,
          0.012031719989062073,
          0.01066447908121411,
          0.010117582718074924,
          0.009297238173366147,
          0.009023789991796555,
          0.00847689362865737,
          0.007383100902378999,
          0.007109652720809406,
          0.006015859994531037,
          0.004375170905113481,
          0.004375170905113481,
          0.004375170905113481,
          0.004375170905113481,
          0.0038282745419742957,
          0.0038282745419742957,
          0.0038282745419742957,
          0.003281378178835111,
          0.0030079299972655183,
          0.0030079299972655183,
          0.0030079299972655183,
          0.0027344818156959257,
          0.0027344818156959257,
          0.002461033634126333,
          0.0021875854525567405,
          0.0021875854525567405,
          0.0021875854525567405,
          0.0019141372709871479,
          0.0019141372709871479,
          0.0016406890894175555,
          0.0016406890894175555,
          0.0013672409078479629,
          0.0013672409078479629,
          0.0013672409078479629,
          0.0013672409078479629,
          0.0013672409078479629,
          0.0010937927262783702,
          0.0010937927262783702,
          0.0010937927262783702,
          0.0010937927262783702,
          0.0010937927262783702,
          0.0008203445447087777,
          0.0008203445447087777,
          0.0008203445447087777,
          0.0008203445447087777,
          0.0008203445447087777,
          0.0008203445447087777,
          0.0005468963631391851,
          0.0005468963631391851,
          0.0005468963631391851,
          0.0005468963631391851,
          0.0005468963631391851,
          0.0005468963631391851,
          0.0005468963631391851,
          0.0005468963631391851,
          0.0005468963631391851,
          0.0005468963631391851,
          0.0005468963631391851,
          0.0005468963631391851,
          0.00027344818156959256,
          0.00027344818156959256,
          0.00027344818156959256,
          0.00027344818156959256,
          0.00027344818156959256,
          0.00027344818156959256,
          0.00027344818156959256,
          0.00027344818156959256,
          0.00027344818156959256,
          0.00027344818156959256,
          0.00027344818156959256,
          0.00027344818156959256,
          0.00027344818156959256,
          0.00027344818156959256,
          0.00027344818156959256,
          0.00027344818156959256,
          0.00027344818156959256,
          0.00027344818156959256,
          0.00027344818156959256,
          0.00027344818156959256,
          0.00027344818156959256,
          0.00027344818156959256,
          0.00027344818156959256,
          0.00027344818156959256,
          0.00027344818156959256,
          0.00027344818156959256,
          0,
          0,
          0,
          0,
          0,
          0,
          0,
          0,
          0,
          0,
          0,
          0,
          0,
          0,
          0,
          0,
          0,
          0,
          0,
          0,
          0,
          0
         ]
        }
       ],
       "layout": {
        "coloraxis": {
         "colorbar": {
          "title": {
           "text": "Netflix"
          }
         },
         "colorscale": [
          [
           0,
           "#0d0887"
          ],
          [
           0.1111111111111111,
           "#46039f"
          ],
          [
           0.2222222222222222,
           "#7201a8"
          ],
          [
           0.3333333333333333,
           "#9c179e"
          ],
          [
           0.4444444444444444,
           "#bd3786"
          ],
          [
           0.5555555555555556,
           "#d8576b"
          ],
          [
           0.6666666666666666,
           "#ed7953"
          ],
          [
           0.7777777777777778,
           "#fb9f3a"
          ],
          [
           0.8888888888888888,
           "#fdca26"
          ],
          [
           1,
           "#f0f921"
          ]
         ]
        },
        "geo": {
         "center": {},
         "domain": {
          "x": [
           0,
           1
          ],
          "y": [
           0,
           1
          ]
         }
        },
        "legend": {
         "tracegroupgap": 0
        },
        "margin": {
         "t": 60
        },
        "template": {
         "data": {
          "bar": [
           {
            "error_x": {
             "color": "#2a3f5f"
            },
            "error_y": {
             "color": "#2a3f5f"
            },
            "marker": {
             "line": {
              "color": "#E5ECF6",
              "width": 0.5
             },
             "pattern": {
              "fillmode": "overlay",
              "size": 10,
              "solidity": 0.2
             }
            },
            "type": "bar"
           }
          ],
          "barpolar": [
           {
            "marker": {
             "line": {
              "color": "#E5ECF6",
              "width": 0.5
             },
             "pattern": {
              "fillmode": "overlay",
              "size": 10,
              "solidity": 0.2
             }
            },
            "type": "barpolar"
           }
          ],
          "carpet": [
           {
            "aaxis": {
             "endlinecolor": "#2a3f5f",
             "gridcolor": "white",
             "linecolor": "white",
             "minorgridcolor": "white",
             "startlinecolor": "#2a3f5f"
            },
            "baxis": {
             "endlinecolor": "#2a3f5f",
             "gridcolor": "white",
             "linecolor": "white",
             "minorgridcolor": "white",
             "startlinecolor": "#2a3f5f"
            },
            "type": "carpet"
           }
          ],
          "choropleth": [
           {
            "colorbar": {
             "outlinewidth": 0,
             "ticks": ""
            },
            "type": "choropleth"
           }
          ],
          "contour": [
           {
            "colorbar": {
             "outlinewidth": 0,
             "ticks": ""
            },
            "colorscale": [
             [
              0,
              "#0d0887"
             ],
             [
              0.1111111111111111,
              "#46039f"
             ],
             [
              0.2222222222222222,
              "#7201a8"
             ],
             [
              0.3333333333333333,
              "#9c179e"
             ],
             [
              0.4444444444444444,
              "#bd3786"
             ],
             [
              0.5555555555555556,
              "#d8576b"
             ],
             [
              0.6666666666666666,
              "#ed7953"
             ],
             [
              0.7777777777777778,
              "#fb9f3a"
             ],
             [
              0.8888888888888888,
              "#fdca26"
             ],
             [
              1,
              "#f0f921"
             ]
            ],
            "type": "contour"
           }
          ],
          "contourcarpet": [
           {
            "colorbar": {
             "outlinewidth": 0,
             "ticks": ""
            },
            "type": "contourcarpet"
           }
          ],
          "heatmap": [
           {
            "colorbar": {
             "outlinewidth": 0,
             "ticks": ""
            },
            "colorscale": [
             [
              0,
              "#0d0887"
             ],
             [
              0.1111111111111111,
              "#46039f"
             ],
             [
              0.2222222222222222,
              "#7201a8"
             ],
             [
              0.3333333333333333,
              "#9c179e"
             ],
             [
              0.4444444444444444,
              "#bd3786"
             ],
             [
              0.5555555555555556,
              "#d8576b"
             ],
             [
              0.6666666666666666,
              "#ed7953"
             ],
             [
              0.7777777777777778,
              "#fb9f3a"
             ],
             [
              0.8888888888888888,
              "#fdca26"
             ],
             [
              1,
              "#f0f921"
             ]
            ],
            "type": "heatmap"
           }
          ],
          "heatmapgl": [
           {
            "colorbar": {
             "outlinewidth": 0,
             "ticks": ""
            },
            "colorscale": [
             [
              0,
              "#0d0887"
             ],
             [
              0.1111111111111111,
              "#46039f"
             ],
             [
              0.2222222222222222,
              "#7201a8"
             ],
             [
              0.3333333333333333,
              "#9c179e"
             ],
             [
              0.4444444444444444,
              "#bd3786"
             ],
             [
              0.5555555555555556,
              "#d8576b"
             ],
             [
              0.6666666666666666,
              "#ed7953"
             ],
             [
              0.7777777777777778,
              "#fb9f3a"
             ],
             [
              0.8888888888888888,
              "#fdca26"
             ],
             [
              1,
              "#f0f921"
             ]
            ],
            "type": "heatmapgl"
           }
          ],
          "histogram": [
           {
            "marker": {
             "pattern": {
              "fillmode": "overlay",
              "size": 10,
              "solidity": 0.2
             }
            },
            "type": "histogram"
           }
          ],
          "histogram2d": [
           {
            "colorbar": {
             "outlinewidth": 0,
             "ticks": ""
            },
            "colorscale": [
             [
              0,
              "#0d0887"
             ],
             [
              0.1111111111111111,
              "#46039f"
             ],
             [
              0.2222222222222222,
              "#7201a8"
             ],
             [
              0.3333333333333333,
              "#9c179e"
             ],
             [
              0.4444444444444444,
              "#bd3786"
             ],
             [
              0.5555555555555556,
              "#d8576b"
             ],
             [
              0.6666666666666666,
              "#ed7953"
             ],
             [
              0.7777777777777778,
              "#fb9f3a"
             ],
             [
              0.8888888888888888,
              "#fdca26"
             ],
             [
              1,
              "#f0f921"
             ]
            ],
            "type": "histogram2d"
           }
          ],
          "histogram2dcontour": [
           {
            "colorbar": {
             "outlinewidth": 0,
             "ticks": ""
            },
            "colorscale": [
             [
              0,
              "#0d0887"
             ],
             [
              0.1111111111111111,
              "#46039f"
             ],
             [
              0.2222222222222222,
              "#7201a8"
             ],
             [
              0.3333333333333333,
              "#9c179e"
             ],
             [
              0.4444444444444444,
              "#bd3786"
             ],
             [
              0.5555555555555556,
              "#d8576b"
             ],
             [
              0.6666666666666666,
              "#ed7953"
             ],
             [
              0.7777777777777778,
              "#fb9f3a"
             ],
             [
              0.8888888888888888,
              "#fdca26"
             ],
             [
              1,
              "#f0f921"
             ]
            ],
            "type": "histogram2dcontour"
           }
          ],
          "mesh3d": [
           {
            "colorbar": {
             "outlinewidth": 0,
             "ticks": ""
            },
            "type": "mesh3d"
           }
          ],
          "parcoords": [
           {
            "line": {
             "colorbar": {
              "outlinewidth": 0,
              "ticks": ""
             }
            },
            "type": "parcoords"
           }
          ],
          "pie": [
           {
            "automargin": true,
            "type": "pie"
           }
          ],
          "scatter": [
           {
            "fillpattern": {
             "fillmode": "overlay",
             "size": 10,
             "solidity": 0.2
            },
            "type": "scatter"
           }
          ],
          "scatter3d": [
           {
            "line": {
             "colorbar": {
              "outlinewidth": 0,
              "ticks": ""
             }
            },
            "marker": {
             "colorbar": {
              "outlinewidth": 0,
              "ticks": ""
             }
            },
            "type": "scatter3d"
           }
          ],
          "scattercarpet": [
           {
            "marker": {
             "colorbar": {
              "outlinewidth": 0,
              "ticks": ""
             }
            },
            "type": "scattercarpet"
           }
          ],
          "scattergeo": [
           {
            "marker": {
             "colorbar": {
              "outlinewidth": 0,
              "ticks": ""
             }
            },
            "type": "scattergeo"
           }
          ],
          "scattergl": [
           {
            "marker": {
             "colorbar": {
              "outlinewidth": 0,
              "ticks": ""
             }
            },
            "type": "scattergl"
           }
          ],
          "scattermapbox": [
           {
            "marker": {
             "colorbar": {
              "outlinewidth": 0,
              "ticks": ""
             }
            },
            "type": "scattermapbox"
           }
          ],
          "scatterpolar": [
           {
            "marker": {
             "colorbar": {
              "outlinewidth": 0,
              "ticks": ""
             }
            },
            "type": "scatterpolar"
           }
          ],
          "scatterpolargl": [
           {
            "marker": {
             "colorbar": {
              "outlinewidth": 0,
              "ticks": ""
             }
            },
            "type": "scatterpolargl"
           }
          ],
          "scatterternary": [
           {
            "marker": {
             "colorbar": {
              "outlinewidth": 0,
              "ticks": ""
             }
            },
            "type": "scatterternary"
           }
          ],
          "surface": [
           {
            "colorbar": {
             "outlinewidth": 0,
             "ticks": ""
            },
            "colorscale": [
             [
              0,
              "#0d0887"
             ],
             [
              0.1111111111111111,
              "#46039f"
             ],
             [
              0.2222222222222222,
              "#7201a8"
             ],
             [
              0.3333333333333333,
              "#9c179e"
             ],
             [
              0.4444444444444444,
              "#bd3786"
             ],
             [
              0.5555555555555556,
              "#d8576b"
             ],
             [
              0.6666666666666666,
              "#ed7953"
             ],
             [
              0.7777777777777778,
              "#fb9f3a"
             ],
             [
              0.8888888888888888,
              "#fdca26"
             ],
             [
              1,
              "#f0f921"
             ]
            ],
            "type": "surface"
           }
          ],
          "table": [
           {
            "cells": {
             "fill": {
              "color": "#EBF0F8"
             },
             "line": {
              "color": "white"
             }
            },
            "header": {
             "fill": {
              "color": "#C8D4E3"
             },
             "line": {
              "color": "white"
             }
            },
            "type": "table"
           }
          ]
         },
         "layout": {
          "annotationdefaults": {
           "arrowcolor": "#2a3f5f",
           "arrowhead": 0,
           "arrowwidth": 1
          },
          "autotypenumbers": "strict",
          "coloraxis": {
           "colorbar": {
            "outlinewidth": 0,
            "ticks": ""
           }
          },
          "colorscale": {
           "diverging": [
            [
             0,
             "#8e0152"
            ],
            [
             0.1,
             "#c51b7d"
            ],
            [
             0.2,
             "#de77ae"
            ],
            [
             0.3,
             "#f1b6da"
            ],
            [
             0.4,
             "#fde0ef"
            ],
            [
             0.5,
             "#f7f7f7"
            ],
            [
             0.6,
             "#e6f5d0"
            ],
            [
             0.7,
             "#b8e186"
            ],
            [
             0.8,
             "#7fbc41"
            ],
            [
             0.9,
             "#4d9221"
            ],
            [
             1,
             "#276419"
            ]
           ],
           "sequential": [
            [
             0,
             "#0d0887"
            ],
            [
             0.1111111111111111,
             "#46039f"
            ],
            [
             0.2222222222222222,
             "#7201a8"
            ],
            [
             0.3333333333333333,
             "#9c179e"
            ],
            [
             0.4444444444444444,
             "#bd3786"
            ],
            [
             0.5555555555555556,
             "#d8576b"
            ],
            [
             0.6666666666666666,
             "#ed7953"
            ],
            [
             0.7777777777777778,
             "#fb9f3a"
            ],
            [
             0.8888888888888888,
             "#fdca26"
            ],
            [
             1,
             "#f0f921"
            ]
           ],
           "sequentialminus": [
            [
             0,
             "#0d0887"
            ],
            [
             0.1111111111111111,
             "#46039f"
            ],
            [
             0.2222222222222222,
             "#7201a8"
            ],
            [
             0.3333333333333333,
             "#9c179e"
            ],
            [
             0.4444444444444444,
             "#bd3786"
            ],
            [
             0.5555555555555556,
             "#d8576b"
            ],
            [
             0.6666666666666666,
             "#ed7953"
            ],
            [
             0.7777777777777778,
             "#fb9f3a"
            ],
            [
             0.8888888888888888,
             "#fdca26"
            ],
            [
             1,
             "#f0f921"
            ]
           ]
          },
          "colorway": [
           "#636efa",
           "#EF553B",
           "#00cc96",
           "#ab63fa",
           "#FFA15A",
           "#19d3f3",
           "#FF6692",
           "#B6E880",
           "#FF97FF",
           "#FECB52"
          ],
          "font": {
           "color": "#2a3f5f"
          },
          "geo": {
           "bgcolor": "white",
           "lakecolor": "white",
           "landcolor": "#E5ECF6",
           "showlakes": true,
           "showland": true,
           "subunitcolor": "white"
          },
          "hoverlabel": {
           "align": "left"
          },
          "hovermode": "closest",
          "mapbox": {
           "style": "light"
          },
          "paper_bgcolor": "white",
          "plot_bgcolor": "#E5ECF6",
          "polar": {
           "angularaxis": {
            "gridcolor": "white",
            "linecolor": "white",
            "ticks": ""
           },
           "bgcolor": "#E5ECF6",
           "radialaxis": {
            "gridcolor": "white",
            "linecolor": "white",
            "ticks": ""
           }
          },
          "scene": {
           "xaxis": {
            "backgroundcolor": "#E5ECF6",
            "gridcolor": "white",
            "gridwidth": 2,
            "linecolor": "white",
            "showbackground": true,
            "ticks": "",
            "zerolinecolor": "white"
           },
           "yaxis": {
            "backgroundcolor": "#E5ECF6",
            "gridcolor": "white",
            "gridwidth": 2,
            "linecolor": "white",
            "showbackground": true,
            "ticks": "",
            "zerolinecolor": "white"
           },
           "zaxis": {
            "backgroundcolor": "#E5ECF6",
            "gridcolor": "white",
            "gridwidth": 2,
            "linecolor": "white",
            "showbackground": true,
            "ticks": "",
            "zerolinecolor": "white"
           }
          },
          "shapedefaults": {
           "line": {
            "color": "#2a3f5f"
           }
          },
          "ternary": {
           "aaxis": {
            "gridcolor": "white",
            "linecolor": "white",
            "ticks": ""
           },
           "baxis": {
            "gridcolor": "white",
            "linecolor": "white",
            "ticks": ""
           },
           "bgcolor": "#E5ECF6",
           "caxis": {
            "gridcolor": "white",
            "linecolor": "white",
            "ticks": ""
           }
          },
          "title": {
           "x": 0.05
          },
          "xaxis": {
           "automargin": true,
           "gridcolor": "white",
           "linecolor": "white",
           "ticks": "",
           "title": {
            "standoff": 15
           },
           "zerolinecolor": "white",
           "zerolinewidth": 2
          },
          "yaxis": {
           "automargin": true,
           "gridcolor": "white",
           "linecolor": "white",
           "ticks": "",
           "title": {
            "standoff": 15
           },
           "zerolinecolor": "white",
           "zerolinewidth": 2
          }
         }
        }
       }
      }
     },
     "metadata": {},
     "output_type": "display_data"
    },
    {
     "data": {
      "application/vnd.plotly.v1+json": {
       "config": {
        "plotlyServerURL": "https://plot.ly"
       },
       "data": [
        {
         "coloraxis": "coloraxis",
         "geo": "geo",
         "hovertemplate": "production_countries=%{location}<br>Prime=%{z}<extra></extra>",
         "locationmode": "country names",
         "locations": [
          "United States",
          "India",
          "United Kingdom",
          "France",
          "Spain",
          "Canada",
          "Germany",
          "Japan",
          "Philippines",
          "Nigeria",
          "Turkey",
          "Egypt",
          "Italy",
          "Mexico",
          "Brazil",
          "China",
          "Indonesia",
          "Argentina",
          "Korea, Republic of",
          "Belgium",
          "Hong Kong",
          "Poland",
          "Australia",
          "South Africa",
          "Netherlands",
          "Lebanon",
          "Taiwan, Province of China",
          "Colombia",
          "Denmark",
          "United Arab Emirates",
          "Malaysia",
          "Thailand",
          "Palestine, State of",
          "Sweden",
          "Switzerland",
          "Chile",
          "Norway",
          "Singapore",
          "Czechia",
          "Ireland",
          "Qatar",
          "Uruguay",
          "Austria",
          "Peru",
          "Romania",
          "New Zealand",
          "Bulgaria",
          "Kenya",
          "Israel",
          "Russian Federation",
          "Portugal",
          "Saudi Arabia",
          "Luxembourg",
          "Iceland",
          "Kuwait",
          "Ghana",
          "Ukraine",
          "Tanzania, United Republic of",
          "Finland",
          "Cambodia",
          "Jordan",
          "Bangladesh",
          "Viet Nam",
          "Hungary",
          "Iraq",
          "Puerto Rico",
          "Iran, Islamic Republic of",
          "Morocco",
          "Lithuania",
          "Albania",
          "Congo, The Democratic Republic of the",
          "Algeria",
          "Pakistan",
          "Greece",
          "Tunisia",
          "Serbia",
          "Panama",
          "Zimbabwe",
          "Malawi",
          "Paraguay",
          "Cuba",
          "Georgia",
          "Holy See (Vatican City State)",
          "Nepal",
          "Greenland",
          "Mauritius",
          "Venezuela, Bolivarian Republic of",
          "Malta",
          "Monaco",
          "Faroe Islands",
          "Sri Lanka",
          "Cameroon",
          "Bahamas",
          "Angola",
          "Estonia",
          "Guatemala",
          "Burkina Faso",
          "Ethiopia",
          "Senegal",
          "Bhutan",
          "Slovenia",
          "Syrian Arab Republic",
          "Slovakia",
          "Croatia",
          "Afghanistan",
          "Mongolia",
          "Liechtenstein",
          "Latvia",
          "Bolivia, Plurinational State of",
          "Costa Rica",
          "Trinidad and Tobago",
          "Bosnia and Herzegovina",
          "Cyprus",
          "Nicaragua",
          "Jamaica",
          "Bermuda",
          "El Salvador",
          "Somalia",
          "Kazakhstan",
          "Eswatini",
          "Ecuador",
          "Rwanda",
          "Turks and Caicos Islands",
          "Côte d'Ivoire"
         ],
         "name": "",
         "type": "choropleth",
         "z": [
          0.4358141858141858,
          0.1003996003996004,
          0.05956543456543457,
          0.028096903096903096,
          0.010614385614385614,
          0.03921078921078921,
          0.019230769230769232,
          0.00924075924075924,
          0.001998001998001998,
          0.004995004995004995,
          0.0003746253746253746,
          0.0006243756243756244,
          0.014735264735264736,
          0.006368631368631369,
          0.0037462537462537465,
          0.00511988011988012,
          0.001123876123876124,
          0.002247752247752248,
          0.005744255744255744,
          0.005744255744255744,
          0.006743256743256743,
          0.002122877122877123,
          0.011863136863136864,
          0.0024975024975024975,
          0.0026223776223776225,
          0.00012487512487512488,
          0.0013736263736263737,
          0.001998001998001998,
          0.003246753246753247,
          0.0008741258741258741,
          0.0007492507492507493,
          0.0008741258741258741,
          0.00024975024975024975,
          0.0037462537462537465,
          0.002122877122877123,
          0.0012487512487512488,
          0.002872127872127872,
          0.0006243756243756244,
          0.002997002997002997,
          0.00462037962037962,
          0.00012487512487512488,
          0.0003746253746253746,
          0.002122877122877123,
          0,
          0.0017482517482517483,
          0.003246753246753247,
          0.0004995004995004995,
          0.0003746253746253746,
          0.0026223776223776225,
          0.004495504495504496,
          0.0003746253746253746,
          0,
          0.001123876123876124,
          0.0008741258741258741,
          0,
          0,
          0.0008741258741258741,
          0,
          0.0006243756243756244,
          0.00012487512487512488,
          0.00024975024975024975,
          0.00024975024975024975,
          0.0008741258741258741,
          0.0013736263736263737,
          0,
          0.0007492507492507493,
          0.0012487512487512488,
          0.0007492507492507493,
          0.0003746253746253746,
          0.00024975024975024975,
          0,
          0,
          0.00024975024975024975,
          0.001123876123876124,
          0,
          0.0004995004995004995,
          0.0003746253746253746,
          0,
          0,
          0,
          0.0003746253746253746,
          0.0004995004995004995,
          0,
          0,
          0,
          0,
          0.000999000999000999,
          0.0003746253746253746,
          0.00012487512487512488,
          0,
          0,
          0.00012487512487512488,
          0,
          0,
          0.0004995004995004995,
          0,
          0,
          0.00012487512487512488,
          0,
          0,
          0.00012487512487512488,
          0.00012487512487512488,
          0.001998001998001998,
          0.0003746253746253746,
          0.0003746253746253746,
          0.0003746253746253746,
          0.00024975024975024975,
          0.00024975024975024975,
          0.00024975024975024975,
          0.00024975024975024975,
          0.00024975024975024975,
          0.00012487512487512488,
          0.00012487512487512488,
          0.00012487512487512488,
          0.00012487512487512488,
          0.00012487512487512488,
          0.00012487512487512488,
          0.00012487512487512488,
          0.00012487512487512488,
          0.00012487512487512488,
          0.00012487512487512488,
          0.00012487512487512488,
          0.00012487512487512488,
          0.00012487512487512488
         ]
        }
       ],
       "layout": {
        "coloraxis": {
         "colorbar": {
          "title": {
           "text": "Prime"
          }
         },
         "colorscale": [
          [
           0,
           "#0d0887"
          ],
          [
           0.1111111111111111,
           "#46039f"
          ],
          [
           0.2222222222222222,
           "#7201a8"
          ],
          [
           0.3333333333333333,
           "#9c179e"
          ],
          [
           0.4444444444444444,
           "#bd3786"
          ],
          [
           0.5555555555555556,
           "#d8576b"
          ],
          [
           0.6666666666666666,
           "#ed7953"
          ],
          [
           0.7777777777777778,
           "#fb9f3a"
          ],
          [
           0.8888888888888888,
           "#fdca26"
          ],
          [
           1,
           "#f0f921"
          ]
         ]
        },
        "geo": {
         "center": {},
         "domain": {
          "x": [
           0,
           1
          ],
          "y": [
           0,
           1
          ]
         }
        },
        "legend": {
         "tracegroupgap": 0
        },
        "margin": {
         "t": 60
        },
        "template": {
         "data": {
          "bar": [
           {
            "error_x": {
             "color": "#2a3f5f"
            },
            "error_y": {
             "color": "#2a3f5f"
            },
            "marker": {
             "line": {
              "color": "#E5ECF6",
              "width": 0.5
             },
             "pattern": {
              "fillmode": "overlay",
              "size": 10,
              "solidity": 0.2
             }
            },
            "type": "bar"
           }
          ],
          "barpolar": [
           {
            "marker": {
             "line": {
              "color": "#E5ECF6",
              "width": 0.5
             },
             "pattern": {
              "fillmode": "overlay",
              "size": 10,
              "solidity": 0.2
             }
            },
            "type": "barpolar"
           }
          ],
          "carpet": [
           {
            "aaxis": {
             "endlinecolor": "#2a3f5f",
             "gridcolor": "white",
             "linecolor": "white",
             "minorgridcolor": "white",
             "startlinecolor": "#2a3f5f"
            },
            "baxis": {
             "endlinecolor": "#2a3f5f",
             "gridcolor": "white",
             "linecolor": "white",
             "minorgridcolor": "white",
             "startlinecolor": "#2a3f5f"
            },
            "type": "carpet"
           }
          ],
          "choropleth": [
           {
            "colorbar": {
             "outlinewidth": 0,
             "ticks": ""
            },
            "type": "choropleth"
           }
          ],
          "contour": [
           {
            "colorbar": {
             "outlinewidth": 0,
             "ticks": ""
            },
            "colorscale": [
             [
              0,
              "#0d0887"
             ],
             [
              0.1111111111111111,
              "#46039f"
             ],
             [
              0.2222222222222222,
              "#7201a8"
             ],
             [
              0.3333333333333333,
              "#9c179e"
             ],
             [
              0.4444444444444444,
              "#bd3786"
             ],
             [
              0.5555555555555556,
              "#d8576b"
             ],
             [
              0.6666666666666666,
              "#ed7953"
             ],
             [
              0.7777777777777778,
              "#fb9f3a"
             ],
             [
              0.8888888888888888,
              "#fdca26"
             ],
             [
              1,
              "#f0f921"
             ]
            ],
            "type": "contour"
           }
          ],
          "contourcarpet": [
           {
            "colorbar": {
             "outlinewidth": 0,
             "ticks": ""
            },
            "type": "contourcarpet"
           }
          ],
          "heatmap": [
           {
            "colorbar": {
             "outlinewidth": 0,
             "ticks": ""
            },
            "colorscale": [
             [
              0,
              "#0d0887"
             ],
             [
              0.1111111111111111,
              "#46039f"
             ],
             [
              0.2222222222222222,
              "#7201a8"
             ],
             [
              0.3333333333333333,
              "#9c179e"
             ],
             [
              0.4444444444444444,
              "#bd3786"
             ],
             [
              0.5555555555555556,
              "#d8576b"
             ],
             [
              0.6666666666666666,
              "#ed7953"
             ],
             [
              0.7777777777777778,
              "#fb9f3a"
             ],
             [
              0.8888888888888888,
              "#fdca26"
             ],
             [
              1,
              "#f0f921"
             ]
            ],
            "type": "heatmap"
           }
          ],
          "heatmapgl": [
           {
            "colorbar": {
             "outlinewidth": 0,
             "ticks": ""
            },
            "colorscale": [
             [
              0,
              "#0d0887"
             ],
             [
              0.1111111111111111,
              "#46039f"
             ],
             [
              0.2222222222222222,
              "#7201a8"
             ],
             [
              0.3333333333333333,
              "#9c179e"
             ],
             [
              0.4444444444444444,
              "#bd3786"
             ],
             [
              0.5555555555555556,
              "#d8576b"
             ],
             [
              0.6666666666666666,
              "#ed7953"
             ],
             [
              0.7777777777777778,
              "#fb9f3a"
             ],
             [
              0.8888888888888888,
              "#fdca26"
             ],
             [
              1,
              "#f0f921"
             ]
            ],
            "type": "heatmapgl"
           }
          ],
          "histogram": [
           {
            "marker": {
             "pattern": {
              "fillmode": "overlay",
              "size": 10,
              "solidity": 0.2
             }
            },
            "type": "histogram"
           }
          ],
          "histogram2d": [
           {
            "colorbar": {
             "outlinewidth": 0,
             "ticks": ""
            },
            "colorscale": [
             [
              0,
              "#0d0887"
             ],
             [
              0.1111111111111111,
              "#46039f"
             ],
             [
              0.2222222222222222,
              "#7201a8"
             ],
             [
              0.3333333333333333,
              "#9c179e"
             ],
             [
              0.4444444444444444,
              "#bd3786"
             ],
             [
              0.5555555555555556,
              "#d8576b"
             ],
             [
              0.6666666666666666,
              "#ed7953"
             ],
             [
              0.7777777777777778,
              "#fb9f3a"
             ],
             [
              0.8888888888888888,
              "#fdca26"
             ],
             [
              1,
              "#f0f921"
             ]
            ],
            "type": "histogram2d"
           }
          ],
          "histogram2dcontour": [
           {
            "colorbar": {
             "outlinewidth": 0,
             "ticks": ""
            },
            "colorscale": [
             [
              0,
              "#0d0887"
             ],
             [
              0.1111111111111111,
              "#46039f"
             ],
             [
              0.2222222222222222,
              "#7201a8"
             ],
             [
              0.3333333333333333,
              "#9c179e"
             ],
             [
              0.4444444444444444,
              "#bd3786"
             ],
             [
              0.5555555555555556,
              "#d8576b"
             ],
             [
              0.6666666666666666,
              "#ed7953"
             ],
             [
              0.7777777777777778,
              "#fb9f3a"
             ],
             [
              0.8888888888888888,
              "#fdca26"
             ],
             [
              1,
              "#f0f921"
             ]
            ],
            "type": "histogram2dcontour"
           }
          ],
          "mesh3d": [
           {
            "colorbar": {
             "outlinewidth": 0,
             "ticks": ""
            },
            "type": "mesh3d"
           }
          ],
          "parcoords": [
           {
            "line": {
             "colorbar": {
              "outlinewidth": 0,
              "ticks": ""
             }
            },
            "type": "parcoords"
           }
          ],
          "pie": [
           {
            "automargin": true,
            "type": "pie"
           }
          ],
          "scatter": [
           {
            "fillpattern": {
             "fillmode": "overlay",
             "size": 10,
             "solidity": 0.2
            },
            "type": "scatter"
           }
          ],
          "scatter3d": [
           {
            "line": {
             "colorbar": {
              "outlinewidth": 0,
              "ticks": ""
             }
            },
            "marker": {
             "colorbar": {
              "outlinewidth": 0,
              "ticks": ""
             }
            },
            "type": "scatter3d"
           }
          ],
          "scattercarpet": [
           {
            "marker": {
             "colorbar": {
              "outlinewidth": 0,
              "ticks": ""
             }
            },
            "type": "scattercarpet"
           }
          ],
          "scattergeo": [
           {
            "marker": {
             "colorbar": {
              "outlinewidth": 0,
              "ticks": ""
             }
            },
            "type": "scattergeo"
           }
          ],
          "scattergl": [
           {
            "marker": {
             "colorbar": {
              "outlinewidth": 0,
              "ticks": ""
             }
            },
            "type": "scattergl"
           }
          ],
          "scattermapbox": [
           {
            "marker": {
             "colorbar": {
              "outlinewidth": 0,
              "ticks": ""
             }
            },
            "type": "scattermapbox"
           }
          ],
          "scatterpolar": [
           {
            "marker": {
             "colorbar": {
              "outlinewidth": 0,
              "ticks": ""
             }
            },
            "type": "scatterpolar"
           }
          ],
          "scatterpolargl": [
           {
            "marker": {
             "colorbar": {
              "outlinewidth": 0,
              "ticks": ""
             }
            },
            "type": "scatterpolargl"
           }
          ],
          "scatterternary": [
           {
            "marker": {
             "colorbar": {
              "outlinewidth": 0,
              "ticks": ""
             }
            },
            "type": "scatterternary"
           }
          ],
          "surface": [
           {
            "colorbar": {
             "outlinewidth": 0,
             "ticks": ""
            },
            "colorscale": [
             [
              0,
              "#0d0887"
             ],
             [
              0.1111111111111111,
              "#46039f"
             ],
             [
              0.2222222222222222,
              "#7201a8"
             ],
             [
              0.3333333333333333,
              "#9c179e"
             ],
             [
              0.4444444444444444,
              "#bd3786"
             ],
             [
              0.5555555555555556,
              "#d8576b"
             ],
             [
              0.6666666666666666,
              "#ed7953"
             ],
             [
              0.7777777777777778,
              "#fb9f3a"
             ],
             [
              0.8888888888888888,
              "#fdca26"
             ],
             [
              1,
              "#f0f921"
             ]
            ],
            "type": "surface"
           }
          ],
          "table": [
           {
            "cells": {
             "fill": {
              "color": "#EBF0F8"
             },
             "line": {
              "color": "white"
             }
            },
            "header": {
             "fill": {
              "color": "#C8D4E3"
             },
             "line": {
              "color": "white"
             }
            },
            "type": "table"
           }
          ]
         },
         "layout": {
          "annotationdefaults": {
           "arrowcolor": "#2a3f5f",
           "arrowhead": 0,
           "arrowwidth": 1
          },
          "autotypenumbers": "strict",
          "coloraxis": {
           "colorbar": {
            "outlinewidth": 0,
            "ticks": ""
           }
          },
          "colorscale": {
           "diverging": [
            [
             0,
             "#8e0152"
            ],
            [
             0.1,
             "#c51b7d"
            ],
            [
             0.2,
             "#de77ae"
            ],
            [
             0.3,
             "#f1b6da"
            ],
            [
             0.4,
             "#fde0ef"
            ],
            [
             0.5,
             "#f7f7f7"
            ],
            [
             0.6,
             "#e6f5d0"
            ],
            [
             0.7,
             "#b8e186"
            ],
            [
             0.8,
             "#7fbc41"
            ],
            [
             0.9,
             "#4d9221"
            ],
            [
             1,
             "#276419"
            ]
           ],
           "sequential": [
            [
             0,
             "#0d0887"
            ],
            [
             0.1111111111111111,
             "#46039f"
            ],
            [
             0.2222222222222222,
             "#7201a8"
            ],
            [
             0.3333333333333333,
             "#9c179e"
            ],
            [
             0.4444444444444444,
             "#bd3786"
            ],
            [
             0.5555555555555556,
             "#d8576b"
            ],
            [
             0.6666666666666666,
             "#ed7953"
            ],
            [
             0.7777777777777778,
             "#fb9f3a"
            ],
            [
             0.8888888888888888,
             "#fdca26"
            ],
            [
             1,
             "#f0f921"
            ]
           ],
           "sequentialminus": [
            [
             0,
             "#0d0887"
            ],
            [
             0.1111111111111111,
             "#46039f"
            ],
            [
             0.2222222222222222,
             "#7201a8"
            ],
            [
             0.3333333333333333,
             "#9c179e"
            ],
            [
             0.4444444444444444,
             "#bd3786"
            ],
            [
             0.5555555555555556,
             "#d8576b"
            ],
            [
             0.6666666666666666,
             "#ed7953"
            ],
            [
             0.7777777777777778,
             "#fb9f3a"
            ],
            [
             0.8888888888888888,
             "#fdca26"
            ],
            [
             1,
             "#f0f921"
            ]
           ]
          },
          "colorway": [
           "#636efa",
           "#EF553B",
           "#00cc96",
           "#ab63fa",
           "#FFA15A",
           "#19d3f3",
           "#FF6692",
           "#B6E880",
           "#FF97FF",
           "#FECB52"
          ],
          "font": {
           "color": "#2a3f5f"
          },
          "geo": {
           "bgcolor": "white",
           "lakecolor": "white",
           "landcolor": "#E5ECF6",
           "showlakes": true,
           "showland": true,
           "subunitcolor": "white"
          },
          "hoverlabel": {
           "align": "left"
          },
          "hovermode": "closest",
          "mapbox": {
           "style": "light"
          },
          "paper_bgcolor": "white",
          "plot_bgcolor": "#E5ECF6",
          "polar": {
           "angularaxis": {
            "gridcolor": "white",
            "linecolor": "white",
            "ticks": ""
           },
           "bgcolor": "#E5ECF6",
           "radialaxis": {
            "gridcolor": "white",
            "linecolor": "white",
            "ticks": ""
           }
          },
          "scene": {
           "xaxis": {
            "backgroundcolor": "#E5ECF6",
            "gridcolor": "white",
            "gridwidth": 2,
            "linecolor": "white",
            "showbackground": true,
            "ticks": "",
            "zerolinecolor": "white"
           },
           "yaxis": {
            "backgroundcolor": "#E5ECF6",
            "gridcolor": "white",
            "gridwidth": 2,
            "linecolor": "white",
            "showbackground": true,
            "ticks": "",
            "zerolinecolor": "white"
           },
           "zaxis": {
            "backgroundcolor": "#E5ECF6",
            "gridcolor": "white",
            "gridwidth": 2,
            "linecolor": "white",
            "showbackground": true,
            "ticks": "",
            "zerolinecolor": "white"
           }
          },
          "shapedefaults": {
           "line": {
            "color": "#2a3f5f"
           }
          },
          "ternary": {
           "aaxis": {
            "gridcolor": "white",
            "linecolor": "white",
            "ticks": ""
           },
           "baxis": {
            "gridcolor": "white",
            "linecolor": "white",
            "ticks": ""
           },
           "bgcolor": "#E5ECF6",
           "caxis": {
            "gridcolor": "white",
            "linecolor": "white",
            "ticks": ""
           }
          },
          "title": {
           "x": 0.05
          },
          "xaxis": {
           "automargin": true,
           "gridcolor": "white",
           "linecolor": "white",
           "ticks": "",
           "title": {
            "standoff": 15
           },
           "zerolinecolor": "white",
           "zerolinewidth": 2
          },
          "yaxis": {
           "automargin": true,
           "gridcolor": "white",
           "linecolor": "white",
           "ticks": "",
           "title": {
            "standoff": 15
           },
           "zerolinecolor": "white",
           "zerolinewidth": 2
          }
         }
        }
       }
      }
     },
     "metadata": {},
     "output_type": "display_data"
    }
   ],
   "source": [
    "fig1 = px.choropleth(df_prod_countrie, locations='production_countries', color='Netflix',\n",
    "                    locationmode='country names', color_discrete_sequence= 'inferno' )\n",
    "\n",
    "fig2 = px.choropleth(df_prod_countrie, locations='production_countries', color='Prime',\n",
    "                    locationmode='country names', color_discrete_sequence= 'inferno' )\n",
    "# # color with circle size\n",
    "# fig2 = px.choropleth(df_prod_comp, locations='production_countries', color='Prime',\n",
    "#                     locationmode='country names', color_continuous_scale='inferno')\n",
    "   \n",
    "\n",
    "\n",
    "# Show the map\n",
    "fig1.show()\n",
    "fig2.show()\n"
   ]
  },
  {
   "cell_type": "code",
   "execution_count": 751,
   "id": "f0ecad19",
   "metadata": {},
   "outputs": [
    {
     "data": {
      "text/plain": [
       "<AxesSubplot: title={'center': 'Number of movies per country in Netflix and Prime'}, xlabel='production_countries'>"
      ]
     },
     "execution_count": 751,
     "metadata": {},
     "output_type": "execute_result"
    },
    {
     "data": {
      "image/png": "[encoded data removed]",
      "text/plain": [
       "<Figure size 1000x500 with 1 Axes>"
      ]
     },
     "metadata": {},
     "output_type": "display_data"
    }
   ],
   "source": [
    "prod_countrie_netflix = netflix_movies['production_countries'].apply(lambda x: x.replace('[', '').replace(']', '').replace('\"', '').replace(' ', '').replace(\"'\", \"\").split(',')).sum()\n",
    "prod_countrie_netflix = pd.Series(prod_countrie_netflix).value_counts(normalize=True)\n",
    "prod_countrie_prime = prime_movies['production_countries'].apply(lambda x: x.replace('[', '').replace(']', '').replace('\"', '').replace(' ', '').replace(\"'\", \"\").split(',')).sum()\n",
    "prod_countrie_prime = pd.Series(prod_countrie_prime).value_counts(normalize=True)\n",
    "\n",
    "df_prod_countrie = pd.concat([prod_countrie_netflix, prod_countrie_prime], axis=1)\n",
    "df_prod_countrie.columns = ['Netflix', 'Prime']\n",
    "df_prod_countrie = df_prod_countrie.fillna(0)\n",
    "\n",
    "# df_prod_countrie to dataframe with columns 'production_countries' and 'Netflix' and 'Prime'\n",
    "df_prod_countrie = df_prod_countrie.reset_index()\n",
    "df_prod_countrie.columns = ['production_countries', 'Netflix', 'Prime']\n",
    "\n",
    "df_prod_countrie['production_countries'] = df_prod_countrie['production_countries'].apply(lambda x: alpha2_to_country_name(x))\n",
    "\n",
    "# # remove empty rows\n",
    "# df_prod_countrie = df_prod_countrie[df_prod_countrie['production_countries'] != '']\n",
    "\n",
    "df_prod_countrie = df_prod_countrie.sort_values(by='Prime', ascending=False)\n",
    "\n",
    "# set a column as index\n",
    "df_prod_countrie = df_prod_countrie.set_index('production_countries')\n",
    "\n",
    "df_prod_countrie[1:30].plot(kind='bar', title='Number of movies per country in Netflix and Prime', figsize=(10, 5))\n",
    "\n"
   ]
  },
  {
   "cell_type": "code",
   "execution_count": 742,
   "id": "440d5665",
   "metadata": {},
   "outputs": [
    {
     "data": {
      "text/plain": [
       "<AxesSubplot: title={'center': 'Number of movies per production company in Netflix and Prime'}>"
      ]
     },
     "execution_count": 742,
     "metadata": {},
     "output_type": "execute_result"
    },
    {
     "data": {
      "image/png": "[encoded data removed]",
      "text/plain": [
       "<Figure size 1000x500 with 1 Axes>"
      ]
     },
     "metadata": {},
     "output_type": "display_data"
    }
   ],
   "source": [
    "prod_comp_netflix = netflix_movies['production_companies'].apply(lambda x: x.replace('[', '').replace(']', '').replace('\"', '').split(',')).sum()\n",
    "prod_comp_netflix = pd.Series(prod_comp_netflix).value_counts(sort=True, ascending=False, normalize=True)\n",
    "\n",
    "\n",
    "prod_comp_prime = prime_movies['production_companies'].apply(lambda x: x.replace('[', '').replace(']', '').replace('[]', 'dk').split(',')).sum()\n",
    "prod_comp_prime = pd.Series(prod_comp_prime).value_counts(sort=True, ascending=False, normalize=True)\n",
    "\n",
    "\n",
    "# join the two dataframes to compare the production companies\n",
    "df_prod_comp = pd.concat([prod_comp_netflix, prod_comp_prime], axis=1)\n",
    "df_prod_comp.columns = ['Netflix', 'Prime']\n",
    "df_prod_comp = df_prod_comp.fillna(0)\n",
    "\n",
    "# get the sum of the number of movies per production company\n",
    "df_prod_comp['sum'] = df_prod_comp['Netflix'] + df_prod_comp['Prime']\n",
    "\n",
    "# sum over the column 'sum'\n",
    "df_prod_comp['sum'].sum()\n",
    "\n",
    "# sort the dataframe by the number of movies on prime\n",
    "df_prod_comp = df_prod_comp.sort_values(by='sum', ascending=False)\n",
    "\n",
    "# drop the column 'sum'\n",
    "df_prod_comp = df_prod_comp.drop(columns=['sum'])\n",
    "\n",
    "df_prod_comp[1:30].plot(kind='bar', title='Number of movies per production company in Netflix and Prime', figsize=(10, 5))"
   ]
  },
  {
   "cell_type": "code",
   "execution_count": 752,
   "id": "97603c49",
   "metadata": {},
   "outputs": [],
   "source": [
    "# df_prod_comp = df_prod_comp[(df_prod_comp['Netflix'] > 0) & (df_prod_comp['Prime'] > 0)]\n",
    "\n",
    "# df_prod_comp[:20].plot(kind='bar', title='Number of movies per production company in Netflix and Prime', figsize=(10, 5))"
   ]
  },
  {
   "attachments": {},
   "cell_type": "markdown",
   "id": "c62a99b6",
   "metadata": {},
   "source": [
    "> There are 900 production companies in common out of 6286. They have very different prodcution companies."
   ]
  },
  {
   "cell_type": "code",
   "execution_count": 753,
   "id": "7b6fcaa9",
   "metadata": {},
   "outputs": [
    {
     "data": {
      "text/plain": [
       "<AxesSubplot: title={'center': 'Number of movies per writer in Netflix and Prime'}>"
      ]
     },
     "execution_count": 753,
     "metadata": {},
     "output_type": "execute_result"
    },
    {
     "data": {
      "image/png": "[encoded data removed]",
      "text/plain": [
       "<Figure size 1000x500 with 1 Axes>"
      ]
     },
     "metadata": {},
     "output_type": "display_data"
    }
   ],
   "source": [
    "writers_netflix = pd.Series(netflix_movies['writers']).value_counts(sort=True, ascending=False, normalize=True)\n",
    "writers_prime = pd.Series(prime_movies['writers']).value_counts(sort=True, ascending=False, normalize=True)\n",
    "\n",
    "df_writers = pd.concat([writers_netflix, writers_prime], axis=1)\n",
    "df_writers.columns = ['Netflix', 'Prime']\n",
    "df_writers = df_writers.fillna(0)\n",
    "\n",
    "# get the sum of the number of movies per production company\n",
    "df_writers['sum'] = df_writers['Netflix'] + df_writers['Prime']\n",
    "\n",
    "# sum over the column 'sum'\n",
    "df_writers['sum'].sum()\n",
    "\n",
    "# sort the dataframe by the number of movies on prime\n",
    "df_writers = df_writers.sort_values(by='sum', ascending=False)\n",
    "\n",
    "# drop the column 'sum'\n",
    "df_writers = df_writers.drop(columns=['sum'])\n",
    "\n",
    "df_writers[:20].plot(kind='bar', title='Number of movies per writer in Netflix and Prime', figsize=(10, 5))"
   ]
  },
  {
   "cell_type": "code",
   "execution_count": 754,
   "id": "8e30a61c",
   "metadata": {},
   "outputs": [
    {
     "data": {
      "text/plain": [
       "<AxesSubplot: title={'center': 'Number of movies per director in Netflix and Prime'}>"
      ]
     },
     "execution_count": 754,
     "metadata": {},
     "output_type": "execute_result"
    },
    {
     "data": {
      "image/png": "[encoded data removed]",
      "text/plain": [
       "<Figure size 1000x500 with 1 Axes>"
      ]
     },
     "metadata": {},
     "output_type": "display_data"
    }
   ],
   "source": [
    "directors_netflix = pd.Series(netflix_movies['directors']).value_counts(sort=True, ascending=False, normalize=True)\n",
    "directors_prime = pd.Series(prime_movies['directors']).value_counts(sort=True, ascending=False, normalize=True)\n",
    "\n",
    "df_directors = pd.concat([directors_netflix, directors_prime], axis=1)\n",
    "df_directors.columns = ['Netflix', 'Prime']\n",
    "df_directors = df_directors.fillna(0)\n",
    "\n",
    "# get the sum of the number of movies per production company\n",
    "df_directors['sum'] = df_directors['Netflix'] + df_directors['Prime']\n",
    "\n",
    "# sum over the column 'sum'\n",
    "df_directors['sum'].sum()\n",
    "\n",
    "# sort the dataframe by the number of movies on prime\n",
    "df_directors = df_directors.sort_values(by='sum', ascending=False)\n",
    "\n",
    "# drop the column 'sum'\n",
    "df_directors = df_directors.drop(columns=['sum'])\n",
    "\n",
    "df_directors[:20].plot(kind='bar', title='Number of movies per director in Netflix and Prime', figsize=(10, 5))"
   ]
  }
 ],
 "metadata": {
  "jupytext": {
   "cell_metadata_filter": "-all",
   "custom_cell_magics": "kql"
  },
  "kernelspec": {
   "display_name": "ada_project",
   "language": "python",
   "name": "python3"
  },
  "language_info": {
   "codemirror_mode": {
    "name": "ipython",
    "version": 3
   },
   "file_extension": ".py",
   "mimetype": "text/x-python",
   "name": "python",
   "nbconvert_exporter": "python",
   "pygments_lexer": "ipython3",
   "version": "3.9.15"
  },
  "vscode": {
   "interpreter": {
    "hash": "ca2314ab20a1fc5c58d2d737af6f3a2daab9ca4d5c4aeb9b196e42d418ee17e8"
   }
  }
 },
 "nbformat": 4,
 "nbformat_minor": 5
}
